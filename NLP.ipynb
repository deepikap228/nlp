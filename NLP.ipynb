{
 "cells": [
  {
   "cell_type": "code",
   "execution_count": 1,
   "metadata": {},
   "outputs": [
    {
     "name": "stdout",
     "output_type": "stream",
     "text": [
      "Python:3.6.5 |Anaconda, Inc.| (default, Mar 29 2018, 13:32:41) [MSC v.1900 64 bit (AMD64)]\n",
      "nltk:3.3\n",
      "sklearn:0.19.1\n"
     ]
    }
   ],
   "source": [
    "import nltk\n",
    "import sys\n",
    "import sklearn\n",
    "\n",
    "print(\"Python:{}\".format(sys.version))\n",
    "print(\"nltk:{}\".format(nltk.__version__))\n",
    "print(\"sklearn:{}\".format(sklearn.__version__))"
   ]
  },
  {
   "cell_type": "code",
   "execution_count": null,
   "metadata": {},
   "outputs": [],
   "source": [
    "nltk.download()"
   ]
  },
  {
   "cell_type": "markdown",
   "metadata": {},
   "source": [
    "Corpus-\n",
    "Body of text singular.Corpora is the plural of this.Example-A collection of medical journals"
   ]
  },
  {
   "cell_type": "markdown",
   "metadata": {},
   "source": [
    "Lexicon-\n",
    "words and their meanings.Example-English dictionary.Consider,however that various fields will have different lexicons"
   ]
  },
  {
   "cell_type": "markdown",
   "metadata": {},
   "source": [
    "TOKEN-\n",
    "each entity that is a part of whatever was split up based on the rule.For example-Each words is a token when a sentence is tokenized into words.Each sentence can also be a token if you tokenized the sentence out of the paragraph"
   ]
  },
  {
   "cell_type": "code",
   "execution_count": 2,
   "metadata": {},
   "outputs": [
    {
     "name": "stdout",
     "output_type": "stream",
     "text": [
      "['Hello,how are you doing today?', 'The Olympics are inspiring, and Python is awesome.', 'You look great today.']\n"
     ]
    }
   ],
   "source": [
    "from nltk.tokenize import sent_tokenize,word_tokenize\n",
    "text='Hello,how are you doing today? The Olympics are inspiring, and Python is awesome. You look great today.'\n",
    "print(sent_tokenize(text))"
   ]
  },
  {
   "cell_type": "code",
   "execution_count": 3,
   "metadata": {},
   "outputs": [
    {
     "name": "stdout",
     "output_type": "stream",
     "text": [
      "['Hello', ',', 'how', 'are', 'you', 'doing', 'today', '?', 'The', 'Olympics', 'are', 'inspiring', ',', 'and', 'Python', 'is', 'awesome', '.', 'You', 'look', 'great', 'today', '.']\n"
     ]
    }
   ],
   "source": [
    "print(word_tokenize(text))"
   ]
  },
  {
   "cell_type": "code",
   "execution_count": 5,
   "metadata": {},
   "outputs": [
    {
     "name": "stdout",
     "output_type": "stream",
     "text": [
      "{'their', 'was', 'a', 'themselves', 'about', \"she's\", \"wouldn't\", 'doing', 'am', 'as', 'because', 'off', 'haven', 'yourselves', 'and', 'ours', 'wouldn', \"you're\", 'can', 'will', 'in', 'all', 'has', 'your', 'd', 'now', 'o', \"mustn't\", 'again', 'himself', 'hers', 'mustn', 'down', 'you', 're', 'just', 'while', 'being', 'theirs', 'into', 'why', 'whom', 'against', 'no', \"don't\", 'my', 'shouldn', 'any', \"mightn't\", 'under', 'having', 'y', 'aren', 'to', 'itself', 'most', \"aren't\", \"you've\", \"won't\", 'on', 'after', 't', 'those', 'an', 'ma', \"wasn't\", 'if', 'before', \"shouldn't\", 'hadn', 'its', 'who', 'him', 'few', 'm', \"isn't\", 'be', \"should've\", 'at', 'once', 'than', 'where', 'with', 'have', 'he', 'such', \"it's\", 'over', 'me', 'both', 'wasn', 'herself', 'up', 'should', 'until', 'above', 'isn', 'other', 's', 'hasn', \"doesn't\", 'there', 'during', 'doesn', 'are', 'we', 'further', 'she', 'ain', 'which', 'll', 'for', \"haven't\", \"weren't\", 'her', 'ourselves', 'out', 'how', 'that', 'too', 'them', 'through', 'so', 'of', 'were', 'by', 'each', 'it', 'do', \"you'd\", 'the', 'from', 'this', 'then', \"that'll\", \"you'll\", 'own', 'same', 'didn', 'or', 'our', 'had', 'between', 'yours', \"hadn't\", 'needn', 'his', 'is', \"didn't\", 'couldn', 'these', 'i', 'below', 've', 'did', 'but', \"hasn't\", \"needn't\", 'weren', 'does', 'only', 'very', 'they', 'not', 'won', 'when', \"couldn't\", 'don', 'shan', 'myself', 'what', 'yourself', 'been', 'some', 'mightn', \"shan't\", 'more', 'here', 'nor'}\n"
     ]
    }
   ],
   "source": [
    "#removing stop words-useless data\n",
    "from nltk.corpus import stopwords\n",
    "print(set(stopwords.words('english')))"
   ]
  },
  {
   "cell_type": "code",
   "execution_count": 9,
   "metadata": {},
   "outputs": [
    {
     "name": "stdout",
     "output_type": "stream",
     "text": [
      "['This', 'is', 'some', 'sample', 'text', ',', 'showing', 'off', 'the', 'stop', 'words', 'filtration']\n",
      "['This', 'sample', 'text', ',', 'showing', 'stop', 'words', 'filtration']\n",
      "['This', 'sample', 'text', ',', 'showing', 'stop', 'words', 'filtration']\n"
     ]
    }
   ],
   "source": [
    "example='This is some sample text,showing off the stop words filtration'\n",
    "stop_words=set(stopwords.words('english'))\n",
    "word_tokens=word_tokenize(example)\n",
    "sentence=[w for w in word_tokens if not w in stop_words]\n",
    "filtered_sentence=[]\n",
    "for w in word_tokens:\n",
    "    if w not in stop_words:\n",
    "        filtered_sentence.append(w)\n",
    "print(word_tokens)\n",
    "print(sentence)\n",
    "print(filtered_sentence)"
   ]
  },
  {
   "cell_type": "code",
   "execution_count": null,
   "metadata": {},
   "outputs": [],
   "source": []
  }
 ],
 "metadata": {
  "kernelspec": {
   "display_name": "Python 3",
   "language": "python",
   "name": "python3"
  },
  "language_info": {
   "codemirror_mode": {
    "name": "ipython",
    "version": 3
   },
   "file_extension": ".py",
   "mimetype": "text/x-python",
   "name": "python",
   "nbconvert_exporter": "python",
   "pygments_lexer": "ipython3",
   "version": "3.6.5"
  }
 },
 "nbformat": 4,
 "nbformat_minor": 2
}
